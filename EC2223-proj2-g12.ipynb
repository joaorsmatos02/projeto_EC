{
 "cells": [
  {
   "attachments": {},
   "cell_type": "markdown",
   "metadata": {},
   "source": [
    "### Engenharia do Conhecimento 2022/2023 - Projeto 2 - Grupo 12 - Ana Teixeira | Francisco Abreu | João Matos | Tomás Piteira"
   ]
  },
  {
   "attachments": {},
   "cell_type": "markdown",
   "metadata": {},
   "source": [
    "### 1. Introdução e Objetivos"
   ]
  },
  {
   "cell_type": "code",
   "execution_count": 1,
   "metadata": {},
   "outputs": [],
   "source": [
    "import pandas as pd\n",
    "from sklearn.preprocessing import StandardScaler\n",
    "from sklearn.impute import SimpleImputer\n",
    "pd.set_option('display.max_columns', None)\n",
    "dataset = pd.read_csv('biodegradable_a.csv')"
   ]
  },
  {
   "attachments": {},
   "cell_type": "markdown",
   "metadata": {},
   "source": [
    "### 2. Processamento de Dados"
   ]
  },
  {
   "attachments": {},
   "cell_type": "markdown",
   "metadata": {},
   "source": [
    "#### 2.1 Variáveis Categóricas em Contínuas"
   ]
  },
  {
   "cell_type": "code",
   "execution_count": 2,
   "metadata": {},
   "outputs": [],
   "source": [
    "# Uncomment to see the graphic\n",
    "\n",
    "# import matplotlib.pyplot as plt\n",
    "# # Set the size of each subplot\n",
    "# fig, axs = plt.subplots(14, 3, figsize=(20, 40))\n",
    "# fig.tight_layout(pad=3.0)\n",
    "# # Flatten the axs array to make it easier to iterate over the subplots\n",
    "# axs = axs.flatten()\n",
    "# # Iterate over each column and plot the data in the corresponding subplot\n",
    "# for i, col in enumerate(dataset.columns):\n",
    "#     axs[i].scatter(dataset.index, dataset[col])\n",
    "#     axs[i].set_title(col)\n",
    "#     axs[i].set_xlabel('Index')\n",
    "#     axs[i].set_ylabel(col)\n",
    "# plt.show()"
   ]
  },
  {
   "cell_type": "code",
   "execution_count": 3,
   "metadata": {},
   "outputs": [],
   "source": [
    "import pandas as pd\n",
    "#filtered_columns = ['B01', 'B03', 'B04', 'Biodegradable']\n",
    "filtered_columns = ['Biodegradable']\n",
    "categorical = [col for col in dataset.columns if (col in filtered_columns)]\n",
    "dataset = pd.get_dummies(dataset, columns=categorical, drop_first=True)\n",
    "for col in [c for c in categorical if c != 'Biodegradable']:\n",
    "    if f'{col}_1.0' in dataset.columns:\n",
    "        dataset.rename(columns={f'{col}_1.0': col}, inplace=True)\n",
    "    else:\n",
    "        unique_values = dataset[col].unique()\n",
    "        for value in unique_values:\n",
    "            if pd.notna(value):\n",
    "                column_name = f'{col}_{value}'\n",
    "                if column_name in dataset.columns:\n",
    "                    dataset.rename(columns={column_name: col}, inplace=True)"
   ]
  },
  {
   "attachments": {},
   "cell_type": "markdown",
   "metadata": {},
   "source": [
    "#### 2.2. Separar Conjunto de Treino e Teste"
   ]
  },
  {
   "cell_type": "code",
   "execution_count": 4,
   "metadata": {},
   "outputs": [],
   "source": [
    "from sklearn.model_selection import train_test_split\n",
    "X = dataset.drop(columns=[\"Biodegradable_RB\"])\n",
    "y = dataset[\"Biodegradable_RB\"]\n",
    "X_train, X_test, y_train, y_test = train_test_split(X, y, test_size=0.33, random_state=123)"
   ]
  },
  {
   "attachments": {},
   "cell_type": "markdown",
   "metadata": {},
   "source": [
    "#### 2.3. Cross-validation *(DecisionTreeClassifier & LogisticRegression)*"
   ]
  },
  {
   "cell_type": "code",
   "execution_count": 5,
   "metadata": {},
   "outputs": [],
   "source": [
    "#1. Use the Training Set for n-Fold Cross Validation\n",
    "import numpy as np\n",
    "from sklearn.linear_model import LogisticRegression\n",
    "from sklearn.metrics import precision_score\n",
    "from sklearn.model_selection import KFold\n",
    "from sklearn.tree import DecisionTreeClassifier\n",
    "def cross_validation_decision_tree(X_train, y_train):\n",
    "    kf = KFold(n_splits=5, shuffle=True)\n",
    "    TRUTH=None\n",
    "    PREDS=None\n",
    "    for train_index, test_index in kf.split(X_train):\n",
    "        X_train_cv, X_test_cv = X_train[train_index], X_train[test_index]\n",
    "        y_train_cv, y_test_cv = y_train[train_index], y_train[test_index]\n",
    "        mdl = DecisionTreeClassifier(max_depth=5)\n",
    "        mdl.fit(X_train_cv, y_train_cv)\n",
    "        preds = mdl.predict(X_test_cv)\n",
    "        if TRUTH is None:\n",
    "            PREDS=preds\n",
    "            TRUTH=y_test_cv\n",
    "        else:\n",
    "            PREDS=np.hstack((PREDS, preds))\n",
    "            TRUTH=np.hstack((TRUTH, y_test_cv))\n",
    "    return TRUTH, PREDS\n",
    "def cross_validation_logistic_regression(X_train, y_train):\n",
    "    kf = KFold(n_splits=5, shuffle=True)\n",
    "    TRUTH=None\n",
    "    PREDS=None\n",
    "    for train_index, test_index in kf.split(X_train):\n",
    "        X_train_cv, X_test_cv = X_train[train_index], X_train[test_index]\n",
    "        y_train_cv, y_test_cv = y_train[train_index], y_train[test_index]\n",
    "        mdl = LogisticRegression(max_iter=1000)\n",
    "        mdl.fit(X_train_cv, y_train_cv)\n",
    "        preds = mdl.predict(X_test_cv)\n",
    "        if TRUTH is None:\n",
    "            PREDS=preds\n",
    "            TRUTH=y_test_cv\n",
    "        else:\n",
    "            PREDS=np.hstack((PREDS, preds))\n",
    "            TRUTH=np.hstack((TRUTH, y_test_cv))\n",
    "    return TRUTH, PREDS"
   ]
  },
  {
   "cell_type": "code",
   "execution_count": 6,
   "metadata": {},
   "outputs": [],
   "source": [
    "#2. evaluate the resulting model with the known statistics\n",
    "from sklearn.metrics import f1_score, matthews_corrcoef, precision_score, recall_score\n",
    "def print_cross_validation_stats(TRUTH, PREDS): \n",
    "    print(\"These are the training set statistics:\")\n",
    "    print(\"The Precision is: %7.4f\" % precision_score(TRUTH, PREDS))\n",
    "    print(\"The Recall is: %7.4f\" % recall_score(TRUTH, PREDS))\n",
    "    print(\"The F1 score is: %7.4f\" % f1_score(TRUTH, PREDS))\n",
    "    print(\"The Matthews correlation coefficient is: %7.4f\" % matthews_corrcoef(TRUTH, PREDS))"
   ]
  },
  {
   "attachments": {},
   "cell_type": "markdown",
   "metadata": {},
   "source": [
    "#### 2.4. Valores em falta *(NaN>14.5%)*"
   ]
  },
  {
   "cell_type": "code",
   "execution_count": 7,
   "metadata": {},
   "outputs": [
    {
     "name": "stdout",
     "output_type": "stream",
     "text": [
      "Columns dropped: C, SpMax_A, SpMax_B\n"
     ]
    }
   ],
   "source": [
    "import pandas as pd\n",
    "threshold = len(X_train) * 0.145\n",
    "X_train_cleaned = X_train.dropna(axis=1, thresh=(len(X_train) - threshold))\n",
    "dropped_columns = X_train.columns.difference(X_train_cleaned.columns)\n",
    "print(\"Columns dropped:\", ', '.join(dropped_columns))"
   ]
  },
  {
   "attachments": {},
   "cell_type": "markdown",
   "metadata": {},
   "source": [
    "#### 2.5. Imputer\n",
    "+ Usámos estratégias diferentes dependendo do tipo de dados\n",
    "+ Coluna *Biodegradable* não tem valores em falta como era esperado"
   ]
  },
  {
   "attachments": {},
   "cell_type": "markdown",
   "metadata": {},
   "source": [
    "##### 2.5.1. SimpleImputer"
   ]
  },
  {
   "cell_type": "code",
   "execution_count": 8,
   "metadata": {},
   "outputs": [
    {
     "name": "stdout",
     "output_type": "stream",
     "text": [
      "SIMPLE IMPUTER - Sem retirar NaN\n",
      "\n",
      "USING DECISION TREE: \n",
      "These are the training set statistics:\n",
      "The Precision is:  0.9511\n",
      "The Recall is:  0.9884\n",
      "The F1 score is:  0.9694\n",
      "The Matthews correlation coefficient is:  0.7886\n",
      "\n",
      "USING LOGISTIC REGRESSION: \n",
      "These are the training set statistics:\n",
      "The Precision is:  0.9546\n",
      "The Recall is:  0.9853\n",
      "The F1 score is:  0.9697\n",
      "The Matthews correlation coefficient is:  0.7923\n"
     ]
    }
   ],
   "source": [
    "imputer_mean = SimpleImputer(strategy='mean')\n",
    "imputer_mode = SimpleImputer(strategy='most_frequent')\n",
    "# Define the columns that will be imputed with the most frequent value\n",
    "most_frequent = ['nHM', 'NssssC', 'nCb', 'nO', 'nN_N', 'nArNO2', 'nCRX3', 'nCIR', 'N_073', 'nCrt', 'nHDon', 'nN', 'nArCOOR', 'B01', 'B03', 'B04']\n",
    "X_train_mode = X_train[most_frequent]\n",
    "X_train_mean = X_train.drop(columns=most_frequent)\n",
    "X_train_mode_imputed = pd.DataFrame(imputer_mode.fit_transform(X_train_mode), columns=X_train_mode.columns)\n",
    "X_train_mean_imputed = pd.DataFrame(imputer_mean.fit_transform(X_train_mean), columns=X_train_mean.columns)\n",
    "X_train_imputed = pd.concat([X_train_mean_imputed, X_train_mode_imputed], axis=1)\n",
    "# Evaluate the Imputer strategy using Cross-validation (Decision Tree and Logistic Regression)\n",
    "print(\"SIMPLE IMPUTER - Sem retirar NaN\")\n",
    "print()\n",
    "TRUTH, PREDS = cross_validation_decision_tree(X_train_imputed.values, y_train.values)\n",
    "print(\"USING DECISION TREE: \")\n",
    "print_cross_validation_stats(TRUTH, PREDS)\n",
    "print()\n",
    "print(\"USING LOGISTIC REGRESSION: \")\n",
    "TRUTH, PREDS = cross_validation_logistic_regression(X_train_imputed.values, y_train.values)\n",
    "print_cross_validation_stats(TRUTH, PREDS)"
   ]
  },
  {
   "cell_type": "code",
   "execution_count": 9,
   "metadata": {},
   "outputs": [
    {
     "name": "stdout",
     "output_type": "stream",
     "text": [
      "SIMPLE IMPUTER - a retirar NaN\n",
      "\n",
      "USING DECISION TREE: \n",
      "These are the training set statistics:\n",
      "The Precision is:  0.9552\n",
      "The Recall is:  0.9845\n",
      "The F1 score is:  0.9697\n",
      "The Matthews correlation coefficient is:  0.7926\n",
      "\n",
      "USING LOGISTIC REGRESSION: \n",
      "These are the training set statistics:\n",
      "The Precision is:  0.9560\n",
      "The Recall is:  0.9857\n",
      "The F1 score is:  0.9706\n",
      "The Matthews correlation coefficient is:  0.7993\n"
     ]
    }
   ],
   "source": [
    "imputer_mean = SimpleImputer(strategy='mean')\n",
    "imputer_mode = SimpleImputer(strategy='most_frequent')\n",
    "most_frequent = ['nHM', 'NssssC', 'nCb', 'nO', 'nN_N', 'nArNO2', 'nCRX3', 'nCIR', 'N_073', 'nCrt', 'nHDon', 'nN', 'nArCOOR', 'B01', 'B03', 'B04']\n",
    "# Split the training dataset into two parts: columns in 'most_frequent' and the rest\n",
    "X_train_cleaned_mode = X_train_cleaned[most_frequent]\n",
    "X_train_cleaned_mean = X_train_cleaned.drop(columns=most_frequent)\n",
    "# Impute missing values in the training dataset\n",
    "X_train_cleaned_mode_imputed = pd.DataFrame(imputer_mode.fit_transform(X_train_cleaned_mode), columns=X_train_cleaned_mode.columns)\n",
    "X_train_mean_cleaned_imputed = pd.DataFrame(imputer_mean.fit_transform(X_train_cleaned_mean), columns=X_train_cleaned_mean.columns)\n",
    "# Combine the imputed datasets\n",
    "X_train_cleaned_imputed = pd.concat([X_train_mean_cleaned_imputed, X_train_cleaned_mode_imputed], axis=1)\n",
    "print(\"SIMPLE IMPUTER - a retirar NaN\")\n",
    "print()\n",
    "TRUTH, PREDS = cross_validation_decision_tree(X_train_cleaned_imputed.values, y_train.values)\n",
    "print(\"USING DECISION TREE: \")\n",
    "print_cross_validation_stats(TRUTH, PREDS)\n",
    "print()\n",
    "print(\"USING LOGISTIC REGRESSION: \")\n",
    "TRUTH, PREDS = cross_validation_logistic_regression(X_train_cleaned_imputed.values, y_train.values)\n",
    "print_cross_validation_stats(TRUTH, PREDS)"
   ]
  },
  {
   "attachments": {},
   "cell_type": "markdown",
   "metadata": {},
   "source": [
    "##### 2.5.2. KNNImputer"
   ]
  },
  {
   "cell_type": "code",
   "execution_count": 10,
   "metadata": {},
   "outputs": [
    {
     "name": "stdout",
     "output_type": "stream",
     "text": [
      "KNN IMPUTER - Sem retirar NaN\n",
      "\n",
      "USING DECISION TREE: \n",
      "These are the training set statistics:\n",
      "The Precision is:  0.9484\n",
      "The Recall is:  0.9841\n",
      "The F1 score is:  0.9660\n",
      "The Matthews correlation coefficient is:  0.7642\n",
      "\n",
      "USING LOGISTIC REGRESSION: \n",
      "These are the training set statistics:\n",
      "The Precision is:  0.9563\n",
      "The Recall is:  0.9849\n",
      "The F1 score is:  0.9704\n",
      "The Matthews correlation coefficient is:  0.7981\n"
     ]
    }
   ],
   "source": [
    "from sklearn.impute import KNNImputer\n",
    "imputer_knn = KNNImputer(n_neighbors=5)\n",
    "# Impute missing values in the training dataset\n",
    "X_train_knn_imputed = imputer_knn.fit_transform(X_train)\n",
    "# Convert back to DataFrame (if necessary for your downstream tasks)\n",
    "X_train_knn_imputed = pd.DataFrame(X_train_knn_imputed, columns=X_train.columns)\n",
    "print(\"KNN IMPUTER - Sem retirar NaN\")\n",
    "print()\n",
    "TRUTH, PREDS = cross_validation_decision_tree(X_train_knn_imputed.values, y_train.values)\n",
    "print(\"USING DECISION TREE: \")\n",
    "print_cross_validation_stats(TRUTH, PREDS)\n",
    "print()\n",
    "print(\"USING LOGISTIC REGRESSION: \")\n",
    "TRUTH, PREDS = cross_validation_logistic_regression(X_train_knn_imputed.values, y_train.values)\n",
    "print_cross_validation_stats(TRUTH, PREDS)"
   ]
  },
  {
   "cell_type": "code",
   "execution_count": 11,
   "metadata": {},
   "outputs": [
    {
     "name": "stdout",
     "output_type": "stream",
     "text": [
      "KNN IMPUTER - a retirar NaN\n",
      "\n",
      "USING DECISION TREE: \n",
      "These are the training set statistics:\n",
      "The Precision is:  0.9527\n",
      "The Recall is:  0.9833\n",
      "The F1 score is:  0.9678\n",
      "The Matthews correlation coefficient is:  0.7789\n",
      "\n",
      "USING LOGISTIC REGRESSION: \n",
      "These are the training set statistics:\n",
      "The Precision is:  0.9553\n",
      "The Recall is:  0.9849\n",
      "The F1 score is:  0.9698\n",
      "The Matthews correlation coefficient is:  0.7939\n"
     ]
    }
   ],
   "source": [
    "from sklearn.impute import KNNImputer\n",
    "imputer_knn = KNNImputer(n_neighbors=5)\n",
    "X_train_knn_cleaned_imputed = imputer_knn.fit_transform(X_train_cleaned)\n",
    "# Convert back to DataFrame (if necessary for your downstream tasks)\n",
    "X_train_knn_cleaned_imputed = pd.DataFrame(X_train_knn_cleaned_imputed, columns=X_train_cleaned.columns)\n",
    "print(\"KNN IMPUTER - a retirar NaN\")\n",
    "print()\n",
    "TRUTH, PREDS = cross_validation_decision_tree(X_train_knn_cleaned_imputed.values, y_train.values)\n",
    "print(\"USING DECISION TREE: \")\n",
    "print_cross_validation_stats(TRUTH, PREDS)\n",
    "print()\n",
    "print(\"USING LOGISTIC REGRESSION: \")\n",
    "TRUTH, PREDS = cross_validation_logistic_regression(X_train_knn_cleaned_imputed.values, y_train.values)\n",
    "print_cross_validation_stats(TRUTH, PREDS)"
   ]
  },
  {
   "cell_type": "code",
   "execution_count": 12,
   "metadata": {},
   "outputs": [],
   "source": [
    "X_test_knn_cleaned_imputed = imputer_knn.fit_transform(X_test)\n",
    "X_test_knn_cleaned_imputed = pd.DataFrame(X_test_knn_cleaned_imputed, columns=X_test.columns)"
   ]
  },
  {
   "cell_type": "code",
   "execution_count": 13,
   "metadata": {},
   "outputs": [
    {
     "data": {
      "image/png": "[encoded data removed]",
      "text/plain": [
       "<Figure size 640x480 with 1 Axes>"
      ]
     },
     "metadata": {},
     "output_type": "display_data"
    }
   ],
   "source": [
    "#Show the graphic from metrics of knn imputer using logistic regression\n",
    "import matplotlib.pyplot as plt\n",
    "\n",
    "categories = ['Precision', 'Recall', 'F1 score', 'mcc']\n",
    "values = [precision_score(TRUTH, PREDS), recall_score(TRUTH, PREDS), f1_score(TRUTH, PREDS), matthews_corrcoef(TRUTH, PREDS)]\n",
    "plt.bar(categories, values)\n",
    "plt.xlabel('Categories')\n",
    "plt.ylabel('Values')\n",
    "plt.title('KNN Imputer using Logistic Regression')\n",
    "\n",
    "plt.show()"
   ]
  },
  {
   "attachments": {},
   "cell_type": "markdown",
   "metadata": {},
   "source": [
    "#### 2.6. Scaler"
   ]
  },
  {
   "attachments": {},
   "cell_type": "markdown",
   "metadata": {},
   "source": [
    "##### 2.6.1 MinMax Scaler"
   ]
  },
  {
   "cell_type": "code",
   "execution_count": 14,
   "metadata": {},
   "outputs": [
    {
     "name": "stdout",
     "output_type": "stream",
     "text": [
      "MINMAX SCALER\n",
      "\n",
      "USING DECISION TREE: \n",
      "These are the training set statistics:\n",
      "The Precision is:  0.9544\n",
      "The Recall is:  0.9806\n",
      "The F1 score is:  0.9673\n",
      "The Matthews correlation coefficient is:  0.7773\n",
      "\n",
      "USING LOGISTIC REGRESSION: \n",
      "These are the training set statistics:\n",
      "The Precision is:  0.9507\n",
      "The Recall is:  0.9868\n",
      "The F1 score is:  0.9684\n",
      "The Matthews correlation coefficient is:  0.7819\n"
     ]
    }
   ],
   "source": [
    "from sklearn.preprocessing import MinMaxScaler\n",
    "import pandas as pd\n",
    "scaler = MinMaxScaler()\n",
    "nonScalerColumns = ['nHM', 'NssssC', 'nCb', 'nCp', 'nO', 'nN_N', 'nArNO2', 'nCRX3', 'nCIR', 'N_073', 'nCrt', 'nHDon', 'nN', 'nArCOOR', 'nX', 'B01', 'B03', 'B04']\n",
    "integer_data = X_train_knn_cleaned_imputed[nonScalerColumns]\n",
    "# Drop the integer columns from the dataset\n",
    "X_train_minmax_scaled = X_train_knn_cleaned_imputed.drop(columns=nonScalerColumns)\n",
    "# Perform scaling\n",
    "X_train_minmax_scaled = pd.DataFrame(scaler.fit_transform(X_train_minmax_scaled), columns=X_train_minmax_scaled.columns)\n",
    "# Append the integer columns back to the dataset\n",
    "X_train_minmax_scaled[nonScalerColumns] = integer_data\n",
    "print(\"MINMAX SCALER\")\n",
    "print()\n",
    "TRUTH, PREDS = cross_validation_decision_tree(X_train_minmax_scaled.values, y_train.values)\n",
    "print(\"USING DECISION TREE: \")\n",
    "print_cross_validation_stats(TRUTH, PREDS)\n",
    "print()\n",
    "print(\"USING LOGISTIC REGRESSION: \")\n",
    "TRUTH, PREDS = cross_validation_logistic_regression(X_train_minmax_scaled.values, y_train.values)\n",
    "print_cross_validation_stats(TRUTH, PREDS)"
   ]
  },
  {
   "attachments": {},
   "cell_type": "markdown",
   "metadata": {},
   "source": [
    "##### 2.6.2 Standard Scaler"
   ]
  },
  {
   "cell_type": "code",
   "execution_count": 15,
   "metadata": {},
   "outputs": [
    {
     "name": "stdout",
     "output_type": "stream",
     "text": [
      "STANDARD SCALER\n",
      "\n",
      "USING DECISION TREE: \n",
      "These are the training set statistics:\n",
      "The Precision is:  0.9495\n",
      "The Recall is:  0.9829\n",
      "The F1 score is:  0.9659\n",
      "The Matthews correlation coefficient is:  0.7647\n",
      "\n",
      "USING LOGISTIC REGRESSION: \n",
      "These are the training set statistics:\n",
      "The Precision is:  0.9561\n",
      "The Recall is:  0.9872\n",
      "The F1 score is:  0.9714\n",
      "The Matthews correlation coefficient is:  0.8044\n"
     ]
    }
   ],
   "source": [
    "scaler = StandardScaler()\n",
    "nonScalerColumns = ['nHM', 'NssssC', 'nCb', 'nCp', 'nO', 'nN_N', 'nArNO2', 'nCRX3', 'nCIR', 'N_073', 'nCrt', 'nHDon', 'nN', 'nArCOOR', 'nX', 'B01', 'B03', 'B04']\n",
    "integer_data = X_train_knn_cleaned_imputed[nonScalerColumns]\n",
    "# Drop the integer columns from the dataset\n",
    "X_train_standard_scaled = X_train_knn_cleaned_imputed.drop(columns=nonScalerColumns)\n",
    "# Perform scaling\n",
    "X_train_standard_scaled = pd.DataFrame(scaler.fit_transform(X_train_standard_scaled), columns=X_train_standard_scaled.columns)\n",
    "# Append the integer columns back to the dataset\n",
    "X_train_standard_scaled[nonScalerColumns] = integer_data\n",
    "print(\"STANDARD SCALER\")\n",
    "print()\n",
    "TRUTH, PREDS = cross_validation_decision_tree(X_train_standard_scaled.values, y_train.values)\n",
    "print(\"USING DECISION TREE: \")\n",
    "print_cross_validation_stats(TRUTH, PREDS)\n",
    "print()\n",
    "print(\"USING LOGISTIC REGRESSION: \")\n",
    "TRUTH, PREDS = cross_validation_logistic_regression(X_train_standard_scaled.values, y_train.values)\n",
    "print_cross_validation_stats(TRUTH, PREDS)"
   ]
  },
  {
   "cell_type": "code",
   "execution_count": 16,
   "metadata": {},
   "outputs": [],
   "source": [
    "integer_data_test = X_test_knn_cleaned_imputed[nonScalerColumns]\n",
    "X_test_standard_scaled = X_test_knn_cleaned_imputed.drop(columns=nonScalerColumns)\n",
    "X_test_standard_scaled = pd.DataFrame(scaler.fit_transform(X_test_standard_scaled), columns=X_test_standard_scaled.columns)\n",
    "X_test_standard_scaled[nonScalerColumns] = integer_data_test\n",
    "X_test = X_test_standard_scaled"
   ]
  },
  {
   "cell_type": "code",
   "execution_count": 17,
   "metadata": {},
   "outputs": [
    {
     "data": {
      "image/png": "[encoded data removed]",
      "text/plain": [
       "<Figure size 640x480 with 1 Axes>"
      ]
     },
     "metadata": {},
     "output_type": "display_data"
    }
   ],
   "source": [
    "#Show the graphic from metrics of standard scaler using logistic regression\n",
    "categories = ['Precision', 'Recall', 'F1 score', 'mcc']\n",
    "values = [precision_score(TRUTH, PREDS), recall_score(TRUTH, PREDS), f1_score(TRUTH, PREDS), matthews_corrcoef(TRUTH, PREDS)]\n",
    "plt.bar(categories, values)\n",
    "plt.xlabel('Categories')\n",
    "plt.ylabel('Values')\n",
    "plt.title('Standard Scaler using Logistic Regression')\n",
    "plt.show()"
   ]
  },
  {
   "attachments": {},
   "cell_type": "markdown",
   "metadata": {},
   "source": [
    "### 3. Seleção de Variáveis"
   ]
  },
  {
   "attachments": {},
   "cell_type": "markdown",
   "metadata": {},
   "source": [
    "#### 3.1. Pela Variância"
   ]
  },
  {
   "cell_type": "code",
   "execution_count": 18,
   "metadata": {},
   "outputs": [
    {
     "name": "stdout",
     "output_type": "stream",
     "text": [
      "Columns dropped: Feature nN_N, Feature B01, Feature B04\n",
      "Number of columns in X_train: 35\n",
      "VARIANCE\n",
      "\n",
      "USING DECISION TREE: \n",
      "These are the training set statistics:\n",
      "The Precision is:  0.9513\n",
      "The Recall is:  0.9849\n",
      "The F1 score is:  0.9678\n",
      "The Matthews correlation coefficient is:  0.7783\n",
      "\n",
      "USING LOGISTIC REGRESSION: \n",
      "These are the training set statistics:\n",
      "The Precision is:  0.9568\n",
      "The Recall is:  0.9864\n",
      "The F1 score is:  0.9714\n",
      "The Matthews correlation coefficient is:  0.8046\n"
     ]
    }
   ],
   "source": [
    "feature_variances = np.var(X_train_standard_scaled, axis=0)\n",
    "threshold = 0.01\n",
    "low_variance_columns = [i for i, var in enumerate(feature_variances) if var < threshold]\n",
    "low_variance_columns = [X_train_standard_scaled.columns[i] for i in low_variance_columns]\n",
    "# Drop the columns with low variance for X_train\n",
    "X_train_removed_low_variance = X_train_standard_scaled.drop(columns=low_variance_columns)\n",
    "# Print the columns that were dropped\n",
    "print(\"Columns dropped:\", ', '.join([f\"Feature {i}\" for i in low_variance_columns]))\n",
    "print(\"Number of columns in X_train:\", X_train_removed_low_variance.shape[1])\n",
    "print(\"VARIANCE\")\n",
    "print()\n",
    "TRUTH, PREDS = cross_validation_decision_tree(X_train_removed_low_variance.values, y_train.values)\n",
    "print(\"USING DECISION TREE: \")\n",
    "print_cross_validation_stats(TRUTH, PREDS)\n",
    "print()\n",
    "print(\"USING LOGISTIC REGRESSION: \")\n",
    "TRUTH, PREDS = cross_validation_logistic_regression(X_train_removed_low_variance.values, y_train.values)\n",
    "print_cross_validation_stats(TRUTH, PREDS)"
   ]
  },
  {
   "attachments": {},
   "cell_type": "markdown",
   "metadata": {},
   "source": [
    "#### 3.2. Stepwise & Correlation"
   ]
  },
  {
   "cell_type": "code",
   "execution_count": 19,
   "metadata": {},
   "outputs": [
    {
     "name": "stdout",
     "output_type": "stream",
     "text": [
      "STEPWISE\n",
      "USING DECISION TREE: \n",
      "These are the training set statistics:\n",
      "The Precision is:  0.9374\n",
      "The Recall is:  0.9860\n",
      "The F1 score is:  0.9611\n",
      "The Matthews correlation coefficient is:  0.7240\n",
      "\n",
      "USING LOGISTIC REGRESSION: \n",
      "These are the training set statistics:\n",
      "The Precision is:  0.9503\n",
      "The Recall is:  0.9853\n",
      "The F1 score is:  0.9675\n",
      "The Matthews correlation coefficient is:  0.7753\n"
     ]
    }
   ],
   "source": [
    "from sklearn.feature_selection import SequentialFeatureSelector\n",
    "selector = SequentialFeatureSelector(LogisticRegression(), direction='backward', n_features_to_select=3)\n",
    "selector.fit(X_train_removed_low_variance, y_train)\n",
    "selected_features = selector.get_support()\n",
    "selected_features = X_train_removed_low_variance.columns[selected_features].tolist()\n",
    "# Remove the selected features from X_train_removed_low_variance\n",
    "X_stepwise = X_train_removed_low_variance.drop(columns=selected_features)\n",
    "print(\"STEPWISE\")\n",
    "TRUTH, PREDS = cross_validation_decision_tree(X_stepwise.values, y_train.values)\n",
    "print(\"USING DECISION TREE: \")\n",
    "print_cross_validation_stats(TRUTH, PREDS)\n",
    "print()\n",
    "print(\"USING LOGISTIC REGRESSION: \")\n",
    "TRUTH, PREDS = cross_validation_logistic_regression(X_stepwise.values, y_train.values)\n",
    "print_cross_validation_stats(TRUTH, PREDS)"
   ]
  },
  {
   "cell_type": "code",
   "execution_count": 20,
   "metadata": {},
   "outputs": [
    {
     "name": "stdout",
     "output_type": "stream",
     "text": [
      "CORRELATION\n",
      "USING DECISION TREE: \n",
      "These are the training set statistics:\n",
      "The Precision is:  0.9566\n",
      "The Recall is:  0.9818\n",
      "The F1 score is:  0.9690\n",
      "The Matthews correlation coefficient is:  0.7896\n",
      "\n",
      "USING LOGISTIC REGRESSION: \n",
      "These are the training set statistics:\n",
      "The Precision is:  0.9568\n",
      "The Recall is:  0.9876\n",
      "The F1 score is:  0.9720\n",
      "The Matthews correlation coefficient is:  0.8085\n"
     ]
    }
   ],
   "source": [
    "from scipy.stats import pearsonr\n",
    "correlations = X_train_removed_low_variance.apply(lambda x: np.abs(np.corrcoef(x, y_train, rowvar=False)[0, 1]))\n",
    "selected_features = correlations.nlargest(30).index.tolist()\n",
    "X_correlation = X_train_removed_low_variance[selected_features]\n",
    "print(\"CORRELATION\")\n",
    "TRUTH, PREDS = cross_validation_decision_tree(X_correlation.values, y_train.values)\n",
    "print(\"USING DECISION TREE: \")\n",
    "print_cross_validation_stats(TRUTH, PREDS)\n",
    "print()\n",
    "print(\"USING LOGISTIC REGRESSION: \")\n",
    "TRUTH, PREDS = cross_validation_logistic_regression(X_correlation.values, y_train.values)\n",
    "print_cross_validation_stats(TRUTH, PREDS)"
   ]
  },
  {
   "cell_type": "code",
   "execution_count": 21,
   "metadata": {},
   "outputs": [],
   "source": [
    "# Get a list of columns in each DataFrame\n",
    "cols_corr = X_correlation.columns\n",
    "cols_test = X_test.columns\n",
    "# Identify the missing columns\n",
    "missing_cols = [col for col in cols_test if col not in cols_corr]\n",
    "# Drop the missing columns from X_test\n",
    "X_test = X_test.drop(columns=missing_cols)\n",
    "X_test = X_test.reindex(columns = X_correlation.columns)"
   ]
  },
  {
   "attachments": {},
   "cell_type": "markdown",
   "metadata": {},
   "source": [
    "### 4. Resultados dos Modelos\n",
    "+ 5 modelos - DecisionTreeClassifier, LogisticRegression, SVM, KNN, RandomForestClassifier"
   ]
  },
  {
   "cell_type": "code",
   "execution_count": 22,
   "metadata": {},
   "outputs": [],
   "source": [
    "from sklearn.ensemble import RandomForestClassifier\n",
    "from sklearn.metrics import accuracy_score, classification_report, confusion_matrix\n",
    "from sklearn.neighbors import KNeighborsClassifier\n",
    "from sklearn.svm import SVC\n",
    "trained_models = []\n",
    "results = {}\n",
    "models = [\n",
    "    DecisionTreeClassifier(),\n",
    "    LogisticRegression(),    \n",
    "    SVC(gamma='auto'),\n",
    "    KNeighborsClassifier(n_neighbors=5, weights=\"distance\"),\n",
    "    RandomForestClassifier(n_estimators=100)\n",
    "]\n",
    "def evaluate_model(model, X_test, y_test):\n",
    "    y_pred = model.predict(X_test)\n",
    "    accuracy = accuracy_score(y_test, y_pred)\n",
    "    precision = precision_score(y_test, y_pred, average='weighted')\n",
    "    mmc = matthews_corrcoef(y_test, y_pred)\n",
    "    recall = recall_score(y_test, y_pred, average='weighted')\n",
    "    f1 = f1_score(y_test, y_pred, average='weighted')\n",
    "    report = classification_report(y_test, y_pred)\n",
    "    cm = confusion_matrix(y_test, y_pred)\n",
    "    return accuracy, precision, mmc, recall, f1, report, cm"
   ]
  },
  {
   "cell_type": "code",
   "execution_count": 23,
   "metadata": {},
   "outputs": [],
   "source": [
    "# DecisionTree\n",
    "dtr= DecisionTreeClassifier(max_depth=5)\n",
    "dtr.fit(X_correlation, y_train)\n",
    "trained_models.append(dtr)\n",
    "# LogisticRegression\n",
    "lmr=LogisticRegression()\n",
    "lmr.fit(X_correlation, y_train)\n",
    "trained_models.append(lmr)\n",
    "# SVC\n",
    "svc = SVC(gamma='auto').fit(X_correlation, y_train)\n",
    "trained_models.append(svc)\n",
    "# KNN\n",
    "knn = KNeighborsClassifier(n_neighbors=5, weights=\"distance\")\n",
    "knn.fit(X_correlation, y_train)\n",
    "trained_models.append(knn)\n",
    "# RandomForest\n",
    "rfr= RandomForestClassifier(n_estimators=100)\n",
    "rfr.fit(X_correlation, y_train)\n",
    "trained_models.append(rfr)"
   ]
  },
  {
   "attachments": {},
   "cell_type": "markdown",
   "metadata": {},
   "source": [
    "#### 4.6. Conclusão Melhor Modelo"
   ]
  },
  {
   "cell_type": "code",
   "execution_count": 24,
   "metadata": {},
   "outputs": [],
   "source": [
    "for trained_model in trained_models:\n",
    "    accuracy, precision, mcc, recall, f1, report, cm = evaluate_model(trained_model, X_test, y_test)\n",
    "    results[trained_model.__class__.__name__] = {'Accuracy': accuracy, 'Precision': precision, 'MCC': mcc, 'Recall': recall, 'F1': f1, 'Report': report, 'Confusion Matrix': cm}"
   ]
  },
  {
   "cell_type": "code",
   "execution_count": 25,
   "metadata": {},
   "outputs": [
    {
     "name": "stdout",
     "output_type": "stream",
     "text": [
      "Model                     Accuracy   Precision  Recall     F1        \n",
      "------------------------------------------------------------\n",
      "RandomForestClassifier    0.9688     0.9685     0.9688     0.9682    \n",
      "\n",
      "Classification Report:\n",
      "              precision    recall  f1-score   support\n",
      "\n",
      "           0       0.95      0.87      0.91       262\n",
      "           1       0.97      0.99      0.98      1245\n",
      "\n",
      "    accuracy                           0.97      1507\n",
      "   macro avg       0.96      0.93      0.94      1507\n",
      "weighted avg       0.97      0.97      0.97      1507\n",
      "\n",
      "\n",
      "Confusion Matrix:\n",
      "[[ 227   35]\n",
      " [  12 1233]]\n",
      "\n",
      "------------------------------------------------------------\n",
      "SVC                       0.9648     0.9646     0.9648     0.9639    \n",
      "\n",
      "Classification Report:\n",
      "              precision    recall  f1-score   support\n",
      "\n",
      "           0       0.96      0.84      0.89       262\n",
      "           1       0.97      0.99      0.98      1245\n",
      "\n",
      "    accuracy                           0.96      1507\n",
      "   macro avg       0.96      0.91      0.94      1507\n",
      "weighted avg       0.96      0.96      0.96      1507\n",
      "\n",
      "\n",
      "Confusion Matrix:\n",
      "[[ 219   43]\n",
      " [  10 1235]]\n",
      "\n",
      "------------------------------------------------------------\n",
      "The top two models are RandomForestClassifier and SVC.\n"
     ]
    }
   ],
   "source": [
    "average_metrics = {}\n",
    "# Calculate the average of all metrics for each model\n",
    "for model_name, metrics in results.items():\n",
    "    average_metrics[model_name] = (metrics['Accuracy'] + metrics['Precision'] + metrics['Recall'] + metrics['F1']) / 4\n",
    "# Sort the average_metrics dictionary in descending order and select the top two models\n",
    "top_two_models = sorted(average_metrics, key=average_metrics.get, reverse=True)[:2]\n",
    "print(f\"{'Model':<25} {'Accuracy':<10} {'Precision':<10} {'Recall':<10} {'F1':<10}\")\n",
    "print(\"-\" * 60)\n",
    "for model_name in top_two_models:\n",
    "    metrics = results[model_name]\n",
    "    print(f\"{model_name:<25} {metrics['Accuracy']:<10.4f} {metrics['Precision']:<10.4f} {metrics['Recall']:<10.4f} {metrics['F1']:<10.4f}\")\n",
    "    print(\"\\nClassification Report:\")\n",
    "    print(metrics['Report'])\n",
    "    print(\"\\nConfusion Matrix:\")\n",
    "    print(metrics['Confusion Matrix'])\n",
    "    print(\"\\n\" + \"-\" * 60)\n",
    "print(f\"The top two models are {top_two_models[0]} and {top_two_models[1]}.\")"
   ]
  },
  {
   "cell_type": "code",
   "execution_count": 26,
   "metadata": {},
   "outputs": [],
   "source": [
    "#Uncomment to see the graphic\n",
    "\n",
    "# import matplotlib.pyplot as plt\n",
    "# sorted_metrics = sorted(average_metrics.items(), key=lambda x: x[1], reverse=True)\n",
    "# model_names = [model[0] for model in sorted_metrics]\n",
    "# model_averages = [model[1] for model in sorted_metrics]\n",
    "# plt.figure(figsize=(10, 6))\n",
    "# plt.bar(model_names, model_averages)\n",
    "# plt.xlabel('Models')\n",
    "# plt.ylabel('Average Metric')\n",
    "# plt.title('Average Metrics for Different Models')\n",
    "# for i, v in enumerate(model_averages):\n",
    "#     plt.text(i, v + 0.01, f'{v:.4f}', ha='center')\n",
    "# plt.xticks(rotation=45)\n",
    "# plt.tight_layout()\n",
    "# plt.show()"
   ]
  },
  {
   "attachments": {},
   "cell_type": "markdown",
   "metadata": {},
   "source": [
    "The top two models are <b>RandomForestClassifier</b> and <b>SVC</b>."
   ]
  },
  {
   "attachments": {},
   "cell_type": "markdown",
   "metadata": {},
   "source": [
    "### 5. Hyperparamethers Tuning\n",
    "+ *<b>Top 2</b>* Modelos\n",
    "+ GridSearchCV\n",
    "+ Métricas usadas: B30, SS, MEDIAN"
   ]
  },
  {
   "attachments": {},
   "cell_type": "markdown",
   "metadata": {},
   "source": [
    "#### 5.1. SVC"
   ]
  },
  {
   "cell_type": "code",
   "execution_count": 27,
   "metadata": {},
   "outputs": [
    {
     "name": "stdout",
     "output_type": "stream",
     "text": [
      "SUPPORT VECTOR CLASSIFIER\n",
      "Best hyperparameters: {'C': 10, 'gamma': 0.1}\n",
      "accuracy score: 0.9316080171358629\n",
      "f1 score: 0.9803043313689844\n",
      "precision score: 0.9781077995931102\n"
     ]
    }
   ],
   "source": [
    "from sklearn.model_selection import GridSearchCV\n",
    "param_grid_svc = {\n",
    "    'gamma': [1e-1, 1e-2, 1e-3, 1e-4, 1e-5, 1e-6, 1e-7],\n",
    "    'C': [1, 10, 100, 1e3, 1e4, 1e5]\n",
    "}\n",
    "grid_search_svc = GridSearchCV(estimator=SVC(), param_grid=param_grid_svc, scoring={'accuracy': 'balanced_accuracy', 'f1': 'f1', 'precision': 'precision'}, refit=False)\n",
    "grid_search_svc.fit(X_correlation, y_train)\n",
    "average_scores_svc = (grid_search_svc.cv_results_['mean_test_accuracy'] + grid_search_svc.cv_results_['mean_test_f1'] + grid_search_svc.cv_results_['mean_test_precision']) / 3\n",
    "best_index_svc = average_scores_svc.argmax()\n",
    "print(\"SUPPORT VECTOR CLASSIFIER\")\n",
    "print('Best hyperparameters:', grid_search_svc.cv_results_['params'][best_index_svc])\n",
    "print('accuracy score:', grid_search_svc.cv_results_['mean_test_accuracy'][best_index_svc])\n",
    "print('f1 score:', grid_search_svc.cv_results_['mean_test_f1'][best_index_svc])\n",
    "print('precision score:', grid_search_svc.cv_results_['mean_test_precision'][best_index_svc])"
   ]
  },
  {
   "attachments": {},
   "cell_type": "markdown",
   "metadata": {},
   "source": [
    "#### 5.2. RandomForestClassifier"
   ]
  },
  {
   "cell_type": "code",
   "execution_count": 28,
   "metadata": {},
   "outputs": [
    {
     "name": "stdout",
     "output_type": "stream",
     "text": [
      "RANDOM FOREST CLASSIFIER\n",
      "Best hyperparameters: {'criterion': 'gini', 'max_depth': 15, 'n_estimators': 100}\n",
      "accuracy score: 0.9219958690330478\n",
      "f1 score: 0.9793800246422538\n",
      "precision score: 0.974367609870248\n"
     ]
    }
   ],
   "source": [
    "param_grid_rf = {\n",
    "    'n_estimators': [50, 100, 150],\n",
    "    'max_depth': [5, 10, 15],\n",
    "    'criterion': ['gini', 'entropy']\n",
    "}\n",
    "grid_search_rf = GridSearchCV(estimator=RandomForestClassifier(), param_grid=param_grid_rf, scoring={'accuracy': 'balanced_accuracy', 'f1': 'f1', 'precision': 'precision'}, refit=False)\n",
    "grid_search_rf.fit(X_correlation, y_train)\n",
    "# calculates average accuracy, f1 and precision scores for every parameter combination\n",
    "average_scores_rf = (grid_search_rf.cv_results_['mean_test_accuracy'] + grid_search_rf.cv_results_['mean_test_f1'] + grid_search_rf.cv_results_['mean_test_precision']) / 3\n",
    "best_index_rf = average_scores_rf.argmax()\n",
    "print(\"RANDOM FOREST CLASSIFIER\")\n",
    "print('Best hyperparameters:', grid_search_rf.cv_results_['params'][best_index_rf])\n",
    "print('accuracy score:', grid_search_rf.cv_results_['mean_test_accuracy'][best_index_rf])\n",
    "print('f1 score:', grid_search_rf.cv_results_['mean_test_f1'][best_index_rf])\n",
    "print('precision score:', grid_search_rf.cv_results_['mean_test_precision'][best_index_rf])"
   ]
  },
  {
   "attachments": {},
   "cell_type": "markdown",
   "metadata": {},
   "source": [
    "### 6. Discussão e Conclusões\n",
    "+ Final: SVC com C=10 e gamma=0.1"
   ]
  },
  {
   "cell_type": "code",
   "execution_count": 29,
   "metadata": {},
   "outputs": [
    {
     "name": "stdout",
     "output_type": "stream",
     "text": [
      "Accuracy: 0.966821499668215\n",
      "Precision: 0.9663656431641691\n",
      "MMC: 0.8822794744084126\n",
      "Recall: 0.966821499668215\n",
      "F1: 0.9664049206002588\n",
      "[[ 229   33]\n",
      " [  17 1228]]\n"
     ]
    }
   ],
   "source": [
    "svc = SVC(C=10, gamma=0.1).fit(X_correlation, y_train)\n",
    "accuracy, precision, mmc, recall, f1, report, cm = evaluate_model(svc, X_test, y_test)\n",
    "print(\"Accuracy:\", accuracy)\n",
    "print(\"Precision:\", precision)\n",
    "print(\"MMC:\", mmc)\n",
    "print(\"Recall:\", recall)\n",
    "print(\"F1:\", f1)\n",
    "print(cm)"
   ]
  },
  {
   "attachments": {},
   "cell_type": "markdown",
   "metadata": {},
   "source": [
    "## Exercicio de avaliação da aula"
   ]
  },
  {
   "cell_type": "code",
   "execution_count": 31,
   "metadata": {},
   "outputs": [
    {
     "name": "stdout",
     "output_type": "stream",
     "text": [
      "Entropy:\n",
      "Accuracy: 0.9289980092899801\n",
      "Precision: 0.9281175746109033\n",
      "MMC: 0.8822794744084126\n",
      "Recall: 0.9289980092899801\n",
      "F1: 0.92850545827108\n",
      "[[ 204   58]\n",
      " [  49 1196]]\n",
      "-------------------------------\n",
      "Gini:\n",
      "Accuracy: 0.9462508294625083\n",
      "Precision: 0.9462310110014168\n",
      "MMC: 0.8822794744084126\n",
      "Recall: 0.9462508294625083\n",
      "F1: 0.9434629839179315\n",
      "[[ 192   70]\n",
      " [  11 1234]]\n"
     ]
    }
   ],
   "source": [
    "dtr_entropy= DecisionTreeClassifier(max_depth=5, criterion=\"entropy\")\n",
    "dtr_entropy.fit(X_correlation, y_train)\n",
    "\n",
    "dtr_gini= DecisionTreeClassifier(max_depth=5, criterion=\"gini\")\n",
    "dtr_gini.fit(X_correlation, y_train)\n",
    "\n",
    "accuracy, precision, mcc, recall, f1, report, cm = evaluate_model(dtr_entropy, X_test, y_test)\n",
    "print(\"Entropy:\")\n",
    "print(\"Accuracy:\", accuracy)\n",
    "print(\"Precision:\", precision)\n",
    "print(\"MMC:\", mmc)\n",
    "print(\"Recall:\", recall)\n",
    "print(\"F1:\", f1)\n",
    "print(cm)\n",
    "print(\"-------------------------------\")\n",
    "print(\"Gini:\")\n",
    "accuracy, precision, mcc, recall, f1, report, cm = evaluate_model(dtr_gini, X_test, y_test)\n",
    "print(\"Accuracy:\", accuracy)\n",
    "print(\"Precision:\", precision)\n",
    "print(\"MMC:\", mmc)\n",
    "print(\"Recall:\", recall)\n",
    "print(\"F1:\", f1)\n",
    "print(cm)"
   ]
  }
 ],
 "metadata": {
  "kernelspec": {
   "display_name": "Python 3 (ipykernel)",
   "language": "python",
   "name": "python3"
  },
  "language_info": {
   "codemirror_mode": {
    "name": "ipython",
    "version": 3
   },
   "file_extension": ".py",
   "mimetype": "text/x-python",
   "name": "python",
   "nbconvert_exporter": "python",
   "pygments_lexer": "ipython3",
   "version": "3.10.7"
  }
 },
 "nbformat": 4,
 "nbformat_minor": 2
}
